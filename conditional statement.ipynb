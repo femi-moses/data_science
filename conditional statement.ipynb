{
 "cells": [
  {
   "cell_type": "markdown",
   "metadata": {},
   "source": [
    "# Python Conditional Statement\n",
    "\n",
    "Programming often involve examining a set of conditions and decides which\n",
    "action to take based on the condition.\n",
    "\n",
    "While working with our programs, sometimes we may want to execute a part of \n",
    "the program when a condition is true and another part if the condition is false. \n",
    "So in python, we have the ***if elif and else statement for this purpose***"
   ]
  },
  {
   "cell_type": "markdown",
   "metadata": {},
   "source": [
    "## Simple IF Statement"
   ]
  },
  {
   "cell_type": "code",
   "execution_count": null,
   "metadata": {},
   "outputs": [],
   "source": [
    "if(condition):\n",
    "    indented block of code\n",
    "\n",
    "\n",
    "'''The block of line indented after the column will be executed whenever\n",
    "the condition is True'''"
   ]
  },
  {
   "cell_type": "code",
   "execution_count": 25,
   "metadata": {},
   "outputs": [],
   "source": [
    "# Example\n",
    "test_score = 20\n",
    "practical = 20\n",
    "exam = 50\n",
    "\n",
    "if (test_score + practical + exam ) > 100:\n",
    "    print('invalid input, your score can not be grater than 100')\n",
    "\n"
   ]
  },
  {
   "cell_type": "code",
   "execution_count": 10,
   "metadata": {},
   "outputs": [
    {
     "data": {
      "text/plain": [
       "1"
      ]
     },
     "execution_count": 10,
     "metadata": {},
     "output_type": "execute_result"
    }
   ],
   "source": [
    "3 % 2"
   ]
  },
  {
   "cell_type": "code",
   "execution_count": null,
   "metadata": {},
   "outputs": [],
   "source": [
    "test_score = 20\n",
    "practical = 20\n",
    "exam = 60"
   ]
  },
  {
   "cell_type": "markdown",
   "metadata": {},
   "source": [
    "## Else Statement"
   ]
  },
  {
   "cell_type": "code",
   "execution_count": null,
   "metadata": {},
   "outputs": [],
   "source": [
    "if(condition1):\n",
    "    do something when this is TRUE\n",
    "else:\n",
    "    otherwise do this when the condition is FALSE"
   ]
  },
  {
   "cell_type": "code",
   "execution_count": 34,
   "metadata": {},
   "outputs": [
    {
     "name": "stdout",
     "output_type": "stream",
     "text": [
      "score validated!: 95\n"
     ]
    }
   ],
   "source": [
    "# Example\n",
    "test_score = 20\n",
    "practical = 25\n",
    "exam = 50\n",
    "\n",
    "if (test_score + practical + exam ) > 100:\n",
    "    print('invalid input, your score can not be grater than 100')\n",
    "else:\n",
    "    print('score validated!:', test_score+practical+exam)\n",
    "    \n",
    "    "
   ]
  },
  {
   "cell_type": "code",
   "execution_count": 30,
   "metadata": {},
   "outputs": [
    {
     "name": "stdout",
     "output_type": "stream",
     "text": [
      "your number: +96534289\n",
      "i do not know this country\n"
     ]
    }
   ],
   "source": [
    "number = input('your number: ')\n",
    "\n",
    "if number.startswith('+234'):\n",
    "    print('welcome nigerian')\n",
    "else:\n",
    "    print('i do not know this country')"
   ]
  },
  {
   "cell_type": "markdown",
   "metadata": {},
   "source": [
    "## Multi-test if-else statement"
   ]
  },
  {
   "cell_type": "code",
   "execution_count": null,
   "metadata": {},
   "outputs": [],
   "source": [
    "# if(condition1):\n",
    "#     do this when this condition is TRUE\n",
    "# elif(condition2):\n",
    "#     do this when the previous condition executes to FALSE\n",
    "# else:\n",
    "#     do this when every conditions stated earlier executes to FALSE\n",
    "    "
   ]
  },
  {
   "cell_type": "code",
   "execution_count": 44,
   "metadata": {},
   "outputs": [
    {
     "name": "stdout",
     "output_type": "stream",
     "text": [
      "your test score: 22\n",
      "your practical score: 22.5\n",
      "your exam score:  33.5\n",
      "invalid input, your test score should not be greater than 20\n"
     ]
    }
   ],
   "source": [
    "# Example\n",
    "test_score = float(input('your test score: '))\n",
    "practical = float(input('your practical score: '))\n",
    "exam = float(input('your exam score:  '))\n",
    "# che e - 60, t = 20, p = 20\n",
    "# phy e = 70, t = 10, p = 20\n",
    "\n",
    "if test_score > 20:\n",
    "    print('invalid input, your test score should not be greater than 20')\n",
    "else:\n",
    "    if practical > 20:\n",
    "        print('Invalid input, your practical score should not be greater than 20')\n",
    "    elif exam > 50:\n",
    "        print('Invalid input, your exam score should not be greater than 60')\n",
    "    else:\n",
    "        print('score validated!:', test_score+practical+exam)"
   ]
  },
  {
   "cell_type": "code",
   "execution_count": null,
   "metadata": {},
   "outputs": [],
   "source": []
  },
  {
   "cell_type": "markdown",
   "metadata": {},
   "source": [
    "## Nested If statement\n",
    "\n",
    "A situation where i need to have an ***if statement inside another if statement***, it is called nesting in programming"
   ]
  },
  {
   "cell_type": "code",
   "execution_count": 4,
   "metadata": {},
   "outputs": [
    {
     "name": "stdout",
     "output_type": "stream",
     "text": [
      "your course: physics\n",
      "your test score: 11.2\n",
      "your practical score: 33\n",
      "your exam score:  55\n",
      "invalid input, your test score should not be greater than 10\n"
     ]
    }
   ],
   "source": [
    "course = input('your course: ').upper()\n",
    "test_score = float(input('your test score: '))\n",
    "practical = float(input('your practical score: '))\n",
    "exam = float(input('your exam score:  '))\n",
    "\n",
    "if course == 'CHEMISTRY':\n",
    "    if test_score > 20:\n",
    "         print('invalid input, your test score should not be greater than 20')\n",
    "    else:\n",
    "        if practical > 20:\n",
    "            print('Invalid input, your practical score should not be greater than 20')\n",
    "        elif exam > 60:\n",
    "            print('Invalid input, your exam score should not be greater than 60')\n",
    "        else:\n",
    "            print('score validated!:', test_score+practical+exam)\n",
    "elif course == 'PHYSICS':\n",
    "    if test_score > 10:\n",
    "         print('invalid input, your test score should not be greater than 10')\n",
    "    else:\n",
    "        if practical > 20:\n",
    "            print('Invalid input, your practical score should not be greater than 20')\n",
    "        elif exam > 70:\n",
    "            print('Invalid input, your exam score should not be greater than 70')\n",
    "        else:\n",
    "            print('score validated!:', test_score+practical+exam)\n",
    "else:\n",
    "    print('your course is not registered')\n",
    "            "
   ]
  }
 ],
 "metadata": {
  "kernelspec": {
   "display_name": "Python 3",
   "language": "python",
   "name": "python3"
  },
  "language_info": {
   "codemirror_mode": {
    "name": "ipython",
    "version": 3
   },
   "file_extension": ".py",
   "mimetype": "text/x-python",
   "name": "python",
   "nbconvert_exporter": "python",
   "pygments_lexer": "ipython3",
   "version": "3.6.5"
  }
 },
 "nbformat": 4,
 "nbformat_minor": 2
}
