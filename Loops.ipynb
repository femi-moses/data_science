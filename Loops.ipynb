{
 "cells": [
  {
   "cell_type": "markdown",
   "metadata": {},
   "source": [
    "## Loops in Python\n",
    "> #### For and While\n",
    "\n"
   ]
  },
  {
   "cell_type": "markdown",
   "metadata": {},
   "source": [
    "### For- Loop\n",
    "\n",
    "This is used to iterate over a sequence which may be **a List, a tuple, a dictionary, a set, or a string**\n",
    "\n",
    "_With for loop , you can perform a block of statement over a given sequence_\n",
    "> `for each_element in sequence:`\n",
    "        >> `block of statements`\n",
    "       \n",
    "**Always take note of the indentation**"
   ]
  },
  {
   "cell_type": "markdown",
   "metadata": {},
   "source": [
    "#### Examples\n",
    "##### **ACTIVITIES**\n",
    "- Print each score\n",
    "- Reduce each score using 0.8\n",
    "- store reduced values into a new variable(list) called new_scores\n",
    "- Find the average of the score\n",
    "- Store average value into variable called avg_score\n",
    "- Any score less than 50 should be removed from the new list "
   ]
  },
  {
   "cell_type": "code",
   "execution_count": 20,
   "metadata": {},
   "outputs": [
    {
     "name": "stdout",
     "output_type": "stream",
     "text": [
      "34\n",
      "56\n",
      "88\n",
      "90\n",
      "34\n",
      "67\n",
      "Created Scores\n",
      "[27.200000000000003, 44.800000000000004, 70.4, 72.0, 27.200000000000003, 53.6]\n",
      "refined Scores\n",
      "[44.800000000000004, 70.4, 72.0, 53.6]\n"
     ]
    }
   ],
   "source": [
    "scores_of_students = [34,56,88,90,34,67]\n",
    "new_scores = []\n",
    "total = 0\n",
    "\n",
    "score_length = len(scores_of_students)\n",
    "for each_score in scores_of_students:\n",
    "    print(each_score)\n",
    "    new_scores.append(each_score*0.8)\n",
    "    total = total + each_score\n",
    "#print(scores_of_students)\n",
    "print(\"Created Scores\")\n",
    "print(new_scores)\n",
    "\n",
    "avg_score = total / length\n",
    "#print(total)\n",
    "#print(avg_score)\n",
    "\n",
    "for new_each_score in new_scores:\n",
    "    if float(new_each_score) < 50.0:\n",
    "        new_scores.remove(new_each_score)\n",
    "\n",
    "print(\"refined Scores\")\n",
    "print(new_scores)"
   ]
  },
  {
   "cell_type": "markdown",
   "metadata": {},
   "source": [
    "#### Introduction to range\n",
    "\n",
    "###### ACTIVITIES\n",
    "- What is range\n",
    "> `range(start, end, increment)`\n",
    "- Print out an example using range\n",
    "- Apply range to a for loop"
   ]
  },
  {
   "cell_type": "code",
   "execution_count": 25,
   "metadata": {},
   "outputs": [
    {
     "name": "stdout",
     "output_type": "stream",
     "text": [
      "1,3,5,7,9,11,13,15,17,19,"
     ]
    }
   ],
   "source": [
    "\n",
    "for each_value in range(1,20,2):\n",
    "    print(each_value, end=\",\")"
   ]
  },
  {
   "cell_type": "markdown",
   "metadata": {},
   "source": [
    "#### Deeper in **for** loop\n",
    "##### ACTIVITIES\n",
    "- Iterate over other sequential data types (string, tuple and dictionary)\n",
    "- For the dictionary print the following\n",
    "    > - The Keys\n",
    "    > - The Values\n",
    "    > - The Sum of all the values\n",
    "- Introduce us to **break** and **continue**"
   ]
  },
  {
   "cell_type": "code",
   "execution_count": 32,
   "metadata": {},
   "outputs": [
    {
     "name": "stdout",
     "output_type": "stream",
     "text": [
      "40\n"
     ]
    }
   ],
   "source": [
    "fav_fruit = \"pineapple\"\n",
    "fav_fruits = (\"Banana\", \"Apple\", \"Orange\", \"Guava\")\n",
    "fav_fruits_dict = {\"Banana\": 5, \"Apple\": 2, \"Orange\": 7, \"Guava\": 6}\n",
    "for each_fruit in fav_fruits_dict:\n",
    "    sumo += fav_fruits_dict[each_fruit]\n",
    "print(sumo)\n",
    "    "
   ]
  },
  {
   "cell_type": "markdown",
   "metadata": {},
   "source": [
    "#### Break and Continue\n",
    "> Use the List of scores above\n",
    "\n",
    "##### ACTIVITIES\n",
    " - Explain the concept of break and continue\n",
    " - Excecute example"
   ]
  },
  {
   "cell_type": "code",
   "execution_count": 34,
   "metadata": {},
   "outputs": [
    {
     "name": "stdout",
     "output_type": "stream",
     "text": [
      "34\n",
      "Score 56 is excellent\n",
      "Score 88 is excellent\n",
      "error in the list\n"
     ]
    }
   ],
   "source": [
    "scores_of_students = [34,56,88,190,34,67]\n",
    "for each_score in scores_of_students:\n",
    "    if each_score > 100:\n",
    "        print(\"error in the list\")\n",
    "        break;\n",
    "    elif each_score > 50:\n",
    "        print(\"Score %d is excellent\" %each_score)\n",
    "        continue\n",
    "    print(each_score)"
   ]
  },
  {
   "cell_type": "markdown",
   "metadata": {},
   "source": [
    "#### Nexted Loop\n",
    "##### ACTIVITIES\n",
    "- Explain and examples"
   ]
  },
  {
   "cell_type": "code",
   "execution_count": 36,
   "metadata": {},
   "outputs": [
    {
     "name": "stdout",
     "output_type": "stream",
     "text": [
      "Banana\n",
      "red\n",
      "green\n",
      "yellow\n",
      "Done with inner loop\n",
      "Apple\n",
      "red\n",
      "green\n",
      "yellow\n",
      "Done with inner loop\n",
      "Orange\n",
      "red\n",
      "green\n",
      "yellow\n",
      "Done with inner loop\n",
      "Guava\n",
      "red\n",
      "green\n",
      "yellow\n",
      "Done with inner loop\n",
      "Done with outer loop\n"
     ]
    }
   ],
   "source": [
    "fav_fruits = (\"Banana\", \"Apple\", \"Orange\", \"Guava\")\n",
    "colors= ('red', 'green','yellow')\n",
    "for each_fruit in fav_fruits:\n",
    "    print(each_fruit)\n",
    "    for color in colors:\n",
    "        print(color)\n",
    "    print(\"Done with inner loop\")   \n",
    "print(\"Done with outer loop\")"
   ]
  },
  {
   "cell_type": "markdown",
   "metadata": {},
   "source": [
    "#### Pass\n",
    "> Take Note: for loop cannot be empty, hence we use pass"
   ]
  },
  {
   "cell_type": "code",
   "execution_count": 37,
   "metadata": {},
   "outputs": [],
   "source": [
    "for each_fruit in fav_fruits:\n",
    "    pass"
   ]
  },
  {
   "cell_type": "markdown",
   "metadata": {},
   "source": [
    "## While - Loops"
   ]
  },
  {
   "cell_type": "code",
   "execution_count": 40,
   "metadata": {},
   "outputs": [
    {
     "name": "stdout",
     "output_type": "stream",
     "text": [
      "1,2,3,4,5,6,7,8,9,10,11,12,13,14,15,16,17,18,19,20,end of loop\n"
     ]
    }
   ],
   "source": [
    "a = 1\n",
    "while a <= 20:\n",
    "    print(a, end=',')\n",
    "    a+=1\n",
    "print(\"end of loop\")"
   ]
  },
  {
   "cell_type": "markdown",
   "metadata": {},
   "source": [
    "### Take Note\n",
    "**You can also apply break and continue functionilty to while loop**"
   ]
  },
  {
   "cell_type": "code",
   "execution_count": 43,
   "metadata": {},
   "outputs": [
    {
     "name": "stdout",
     "output_type": "stream",
     "text": [
      "6,7,8,9,10,we have gotten to 10 ooo\n"
     ]
    }
   ],
   "source": [
    "a = 5\n",
    "while a < 20:   \n",
    "    a+=1\n",
    "    print(a, end=',')\n",
    "    if a == 10:\n",
    "        print(\"we have gotten to 10 ooo\")\n",
    "        break"
   ]
  },
  {
   "cell_type": "code",
   "execution_count": null,
   "metadata": {},
   "outputs": [],
   "source": []
  }
 ],
 "metadata": {
  "kernelspec": {
   "display_name": "Python 3",
   "language": "python",
   "name": "python3"
  },
  "language_info": {
   "codemirror_mode": {
    "name": "ipython",
    "version": 3
   },
   "file_extension": ".py",
   "mimetype": "text/x-python",
   "name": "python",
   "nbconvert_exporter": "python",
   "pygments_lexer": "ipython3",
   "version": "3.8.3"
  }
 },
 "nbformat": 4,
 "nbformat_minor": 4
}
