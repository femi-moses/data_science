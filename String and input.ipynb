{
 "cells": [
  {
   "cell_type": "markdown",
   "metadata": {},
   "source": [
    "# working with input"
   ]
  },
  {
   "cell_type": "code",
   "execution_count": 1,
   "metadata": {},
   "outputs": [
    {
     "name": "stdout",
     "output_type": "stream",
     "text": [
      "what is your name: b\n"
     ]
    }
   ],
   "source": [
    "name = input('what is your name: ')"
   ]
  },
  {
   "cell_type": "code",
   "execution_count": 2,
   "metadata": {},
   "outputs": [
    {
     "name": "stdout",
     "output_type": "stream",
     "text": [
      "your age: 22\n",
      "32\n"
     ]
    }
   ],
   "source": [
    "age = input('your age: ')\n",
    "cast_age = int(age)\n",
    "add = cast_age + 10\n",
    "print(add)"
   ]
  },
  {
   "cell_type": "code",
   "execution_count": 3,
   "metadata": {},
   "outputs": [
    {
     "name": "stdout",
     "output_type": "stream",
     "text": [
      "age: 22\n",
      "32\n"
     ]
    }
   ],
   "source": [
    "age = int(input('age: '))\n",
    "add = age + 10\n",
    "print(add)"
   ]
  },
  {
   "cell_type": "markdown",
   "metadata": {},
   "source": [
    "# String"
   ]
  },
  {
   "cell_type": "code",
   "execution_count": null,
   "metadata": {},
   "outputs": [],
   "source": [
    "# sequence list, tuple, string\n",
    "name = 'Boluwatife' # sigle\n",
    "name2 = \"Boluwatife\" #doube\n",
    "\n",
    "sentence = \"This is Alice's shoe\"\n",
    "\n",
    "# Escape Character \\r \\t \\n \\' \\r\n",
    "sentence2 = print(\"there's this saying\\nthat goes thus \\\"look b4 you leap\\\"\")\n",
    "sentence2\n",
    "\n",
    "age = int(input('your age:'))"
   ]
  }
 ],
 "metadata": {
  "kernelspec": {
   "display_name": "Python 3",
   "language": "python",
   "name": "python3"
  },
  "language_info": {
   "codemirror_mode": {
    "name": "ipython",
    "version": 3
   },
   "file_extension": ".py",
   "mimetype": "text/x-python",
   "name": "python",
   "nbconvert_exporter": "python",
   "pygments_lexer": "ipython3",
   "version": "3.6.5"
  }
 },
 "nbformat": 4,
 "nbformat_minor": 2
}
